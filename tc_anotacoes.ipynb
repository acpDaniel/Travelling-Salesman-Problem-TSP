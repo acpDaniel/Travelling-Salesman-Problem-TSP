{
 "cells": [
  {
   "cell_type": "markdown",
   "id": "69a02822",
   "metadata": {},
   "source": [
    "# Travelling Salesman Problem (TSP) \n",
    "\n",
    "Talvez o mais famoso em otimização combinatória.\n",
    "\n",
    "## Literatura\n",
    "\n",
    "- Integer programming formulation of Traveling Salesman Problems. C. E. Miller, A. W. Tucker, R. A. Zemlin (1960)\n",
    "- \n",
    "\n",
    "\n",
    "## Definição do Problema\n",
    "\n",
    "Um viajante sai de uma cidade 1, e visita todas as outras cidades exatamente uma vez, retornando a cidade 1. O objetivo é minimizar os custos associados ao trajeto. Outras restrições podem ser adicionadas como por exemplo o limite de distância que o viajante pode percorrer por viagem e o número máximo de cidades que podem ser visitadas.\n",
    "\n",
    "\n",
    "Focando o problema clássico, queremos minimizar a distância total percorrida, ou seja, minimizar a soma das distâncias entre as cidades visitadas.\n",
    "\n",
    "## Modelagem\n",
    "\n",
    "Cada cidade é representada por um nó em um grafo completo e cada aresta tem um custo associado. Em uma formulação de programação inteira, podemos definir variáveis binárias $x_{ij}$ que representam se o viajante vai diretamente da cidade $i$ para a cidade $j$. A soma dos custos das arestas representadas pelas variáveis $x_{ij}$ é o objetivo a ser minimizado.\n",
    "\n",
    "$$\n",
    "\n",
    "\\text{Minimizar } \\sum_{i=1}^{n} \\sum_{j=1, j \\neq i}^{n} c_{ij} x_{ij}\n",
    "\n",
    "$$\n",
    "\n",
    "Sujeito a:\n",
    "\n",
    "1. Cada cidade deve ser visitada exatamente uma vez:\n",
    "\n",
    "$$\n",
    "\\sum_{j=1, j \\neq i}^{n} x_{ij} = 1 \\quad \\forall i = 1, 2, \\ldots, n\n",
    "$$\n",
    "\n",
    "2. Cada cidade deve ser deixada exatamente uma vez:\n",
    "\n",
    "$$\n",
    "\\sum_{i=1, i \\neq j}^{n} x_{ij} = 1 \\quad \\forall j = 1, 2, \\ldots, n\n",
    "$$\n",
    "\n",
    "3. Evitar ciclos menores que $n$ (subtours):\n",
    "\n",
    "$$\n",
    "u_i - u_j + n x_{ij} \\leq n - 1 \\\n",
    "\\quad \\forall i, j = 2, 3, \\ldots, n, i \\neq j\n",
    "$$"
   ]
  },
  {
   "cell_type": "code",
   "execution_count": null,
   "id": "12c3bd1c",
   "metadata": {},
   "outputs": [],
   "source": []
  },
  {
   "cell_type": "markdown",
   "id": "1db3d921",
   "metadata": {},
   "source": [
    "## Instância usada \n",
    "\n",
    "A instância é fornecida pelo eunciado do trabalho. Ela consiste em uma matriz de distâncias entre 250 cidades e uma matriz de tempos de viagem entre as mesmas cidades. Os dados fornecidos são duas matrizes 250x250, onde o elemento na linha i e coluna j representa a distância (ou tempo) entre a cidade i e a cidade j.\n",
    "\n",
    "## Implementação\n",
    "\n",
    "A implementação começa por ler os dados fornecidos, declarar as variáveis de decisão, escrever a função objetivo e a lista de restrições. Essa separação será útil na implementação de heurísticas posteriormente.\n"
   ]
  },
  {
   "cell_type": "code",
   "execution_count": 5,
   "id": "3a365a6a",
   "metadata": {},
   "outputs": [
    {
     "name": "stdout",
     "output_type": "stream",
     "text": [
      "Distância total: 13374.500000000007, Tempo total: 267.69999999999993\n"
     ]
    }
   ],
   "source": [
    "from pandas import read_csv\n",
    "from numpy import array\n",
    "\n",
    "class Problema:\n",
    "    def __init__(self, distancias_file, tempos_file):\n",
    "        self.distancias = array(read_csv(distancias_file, header=None))\n",
    "        self.tempos = array(read_csv(tempos_file, header=None))\n",
    "        self.n = self.distancias.shape[0]  # Número de cidades\n",
    "        \n",
    "    def funcao_objetivo(self, rota):\n",
    "        distancia_total = 0\n",
    "        tempo_total = 0\n",
    "        for i in range(len(rota) - 1):\n",
    "            distancia_total += self.distancias[rota[i], rota[i + 1]]\n",
    "            tempo_total += self.tempos[rota[i], rota[i + 1]]\n",
    "        # Adiciona o retorno à cidade inicial\n",
    "        distancia_total += self.distancias[rota[-1], rota[0]]\n",
    "        # Retorna uma tupla com distância total e tempo total\n",
    "        return distancia_total, tempo_total\n",
    "    def get_n(self):\n",
    "        return self.n\n",
    "    \n",
    "def main():\n",
    "    problema = Problema('distancia.csv', 'tempo.csv')\n",
    "    rota_exemplo = range(1, problema.get_n())  # Exemplo de rota\n",
    "    distancia, tempo = problema.funcao_objetivo(rota_exemplo)\n",
    "    print(f'Distância total: {distancia}, Tempo total: {tempo}')\n",
    "\n",
    "main();"
   ]
  },
  {
   "cell_type": "markdown",
   "id": "0d012b93",
   "metadata": {},
   "source": [
    "A implementação acima usa a classe `Problema` para encapsular os dados e a função objetivo. A escolha das variáveis de decisão ficará a cargo de uma lista de cidades a serem visitadas (rota). A ordem dessas cidades na lista define a ordem de visitação e portanto as variáveis de decisão. Essa abordagem garante que cada cidade seja visitada exatamente uma vez e que o viajante retorne à cidade inicial. Além de garantir que não haja ciclos menores que n, já que a rota é uma lista linear que começa e termina na cidade inicial.\n",
    "\n",
    "Na função `main` foi feita uma rota de exemplo que visita as cidades na ordem 0, 1, 2, ..., n-1 e retorna para a cidade 0. Essa rota é passada para a função objetivo que calcula a distância total e o tempo total da rota.\n",
    "```python "
   ]
  }
 ],
 "metadata": {
  "kernelspec": {
   "display_name": "ufmg",
   "language": "python",
   "name": "python3"
  },
  "language_info": {
   "codemirror_mode": {
    "name": "ipython",
    "version": 3
   },
   "file_extension": ".py",
   "mimetype": "text/x-python",
   "name": "python",
   "nbconvert_exporter": "python",
   "pygments_lexer": "ipython3",
   "version": "3.13.5"
  }
 },
 "nbformat": 4,
 "nbformat_minor": 5
}
