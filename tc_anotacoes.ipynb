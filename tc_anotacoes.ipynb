{
 "cells": [
  {
   "cell_type": "markdown",
   "id": "69a02822",
   "metadata": {},
   "source": [
    "# Travelling Salesman Problem (TSP) \n",
    "\n",
    "Talvez o mais famoso em otimização combinatória.\n",
    "\n",
    "## Literatura\n",
    "\n",
    "- Integer programming formulation of Traveling Salesman Problems. C. E. Miller, A. W. Tucker, R. A. Zemlin (1960)\n",
    "- \n",
    "\n",
    "\n",
    "## Definição do Problema\n",
    "\n",
    "Um viajante sai de uma cidade 1, e visita todas as outras cidades exatamente uma vez, retornando a cidade 1. O objetivo é minimizar os custos associados ao trajeto. Outras restrições podem ser adicionadas como por exemplo o limite de distância que o viajante pode percorrer por viagem e o número máximo de cidades que podem ser visitadas.\n",
    "\n",
    "\n",
    "Focando o problema clássico, queremos minimizar a distância total percorrida, ou seja, minimizar a soma das distâncias entre as cidades visitadas.\n",
    "\n",
    "## Modelagem\n",
    "\n",
    "Cada cidade é representada por um nó em um grafo completo e cada aresta tem um custo associado. Em uma formulação de programação inteira, podemos definir variáveis binárias $x_{ij}$ que representam se o viajante vai diretamente da cidade $i$ para a cidade $j$. A soma dos custos das arestas representadas pelas variáveis $x_{ij}$ é o objetivo a ser minimizado.\n",
    "\n",
    "$$\n",
    "\n",
    "\\text{Minimizar } \\sum_{i=1}^{n} \\sum_{j=1, j \\neq i}^{n} c_{ij} x_{ij}\n",
    "\n",
    "$$\n",
    "\n",
    "Sujeito a:\n",
    "\n",
    "1. Cada cidade deve ser visitada exatamente uma vez:\n",
    "\n",
    "$$\n",
    "\\sum_{j=1, j \\neq i}^{n} x_{ij} = 1 \\quad \\forall i = 1, 2, \\ldots, n\n",
    "$$\n",
    "\n",
    "2. Cada cidade deve ser deixada exatamente uma vez:\n",
    "\n",
    "$$\n",
    "\\sum_{i=1, i \\neq j}^{n} x_{ij} = 1 \\quad \\forall j = 1, 2, \\ldots, n\n",
    "$$\n",
    "\n",
    "3. Evitar ciclos menores que $n$ (subtours):\n",
    "\n",
    "$$\n",
    "u_i - u_j + n x_{ij} \\leq n - 1 \\\n",
    "\\quad \\forall i, j = 2, 3, \\ldots, n, i \\neq j\n",
    "$$"
   ]
  },
  {
   "cell_type": "code",
   "execution_count": null,
   "id": "12c3bd1c",
   "metadata": {},
   "outputs": [],
   "source": []
  }
 ],
 "metadata": {
  "kernelspec": {
   "display_name": "ufmg",
   "language": "python",
   "name": "python3"
  },
  "language_info": {
   "codemirror_mode": {
    "name": "ipython",
    "version": 3
   },
   "file_extension": ".py",
   "mimetype": "text/x-python",
   "name": "python",
   "nbconvert_exporter": "python",
   "pygments_lexer": "ipython3",
   "version": "3.13.5"
  }
 },
 "nbformat": 4,
 "nbformat_minor": 5
}
